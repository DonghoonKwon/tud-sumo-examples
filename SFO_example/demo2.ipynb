{
 "cells": [
  {
   "cell_type": "code",
   "execution_count": 2,
   "metadata": {},
   "outputs": [],
   "source": [
    "from tud_sumo.simulation import Simulation\n"
   ]
  },
  {
   "cell_type": "code",
   "execution_count": 9,
   "metadata": {},
   "outputs": [],
   "source": [
    "# Initialise the simulation object.\n",
    "my_sim = Simulation(scenario_name=\"basic_scenario\",\n",
    "                    scenario_desc=\"TUD-SUMO integrity check.\")"
   ]
  },
  {
   "cell_type": "code",
   "execution_count": 3,
   "metadata": {},
   "outputs": [
    {
     "name": "stdout",
     "output_type": "stream",
     "text": [
      "Running 'basic_scenario' Scenario\n",
      "  - Start time: 22/01/2025, 06:01:56\n"
     ]
    }
   ],
   "source": [
    "# Start the simulation, defining the sumo config files.\n",
    "my_sim.start(\"./basic_scenario/sumo_config.sumocfg\",\n",
    "                gui=False,\n",
    "                seed=1)"
   ]
  },
  {
   "cell_type": "code",
   "execution_count": null,
   "metadata": {},
   "outputs": [],
   "source": [
    "# Run through the simulation for 1000 steps.\n",
    "my_sim.step_through(n_steps=1000)\n",
    "\n",
    "# End the simulation.\n",
    "my_sim.end()"
   ]
  },
  {
   "cell_type": "code",
   "execution_count": 7,
   "metadata": {},
   "outputs": [
    {
     "name": "stdout",
     "output_type": "stream",
     "text": [
      "\n",
      "(step 1000) (WARNING) Simulation.save_data(): File 'example_data.json' already exists and will be overwritten.\n"
     ]
    }
   ],
   "source": [
    "# Save the simulation data & print a summary, which is also saved.\n",
    "my_sim.save_data(\"example_data.json\")\n",
    "my_sim.print_summary(save_file=\"example_summary.txt\")"
   ]
  },
  {
   "cell_type": "markdown",
   "metadata": {},
   "source": [
    "# SFO test"
   ]
  },
  {
   "cell_type": "code",
   "execution_count": 3,
   "metadata": {},
   "outputs": [
    {
     "name": "stdout",
     "output_type": "stream",
     "text": [
      "Running 'SFO_example' Scenario\n",
      "  - Start time: 22/01/2025, 06:11:31\n"
     ]
    },
    {
     "name": "stderr",
     "output_type": "stream",
     "text": [
      "Simulating (0:16:40 - 428 vehs): 100%|\u001b[36m██████████\u001b[0m| 1000/1000 [00:55<00:00, 17.95steps/s]\n"
     ]
    }
   ],
   "source": [
    "# Initialise the simulation object.\n",
    "my_sim = Simulation(scenario_name=\"SFO_example\",\n",
    "                    scenario_desc=\"Another network check.\")\n",
    "\n",
    "# Start the simulation, defining the sumo config files.\n",
    "my_sim.start(\"./SFO_scenario/sumo_test.sumocfg\",\n",
    "                gui=False,\n",
    "                seed=1)\n",
    "\n",
    "my_sim.step_through(n_steps=1000)\n",
    "\n",
    "# End the simulation.\n",
    "my_sim.end()"
   ]
  },
  {
   "cell_type": "code",
   "execution_count": 4,
   "metadata": {},
   "outputs": [],
   "source": [
    "# Save the simulation data & print a summary, which is also saved.\n",
    "my_sim.save_data(\"example_data.json\")\n",
    "my_sim.print_summary(save_file=\"example_summary.txt\")"
   ]
  }
 ],
 "metadata": {
  "kernelspec": {
   "display_name": "tud-sumo",
   "language": "python",
   "name": "python3"
  },
  "language_info": {
   "codemirror_mode": {
    "name": "ipython",
    "version": 3
   },
   "file_extension": ".py",
   "mimetype": "text/x-python",
   "name": "python",
   "nbconvert_exporter": "python",
   "pygments_lexer": "ipython3",
   "version": "3.12.8"
  }
 },
 "nbformat": 4,
 "nbformat_minor": 2
}
