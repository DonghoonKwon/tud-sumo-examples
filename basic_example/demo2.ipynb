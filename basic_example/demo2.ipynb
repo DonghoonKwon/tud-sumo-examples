{
 "cells": [
  {
   "cell_type": "code",
   "execution_count": 8,
   "metadata": {},
   "outputs": [],
   "source": [
    "from tud_sumo.simulation import Simulation\n"
   ]
  },
  {
   "cell_type": "code",
   "execution_count": 9,
   "metadata": {},
   "outputs": [],
   "source": [
    "# Initialise the simulation object.\n",
    "my_sim = Simulation(scenario_name=\"basic_scenario\",\n",
    "                    scenario_desc=\"TUD-SUMO integrity check.\")"
   ]
  },
  {
   "cell_type": "code",
   "execution_count": 3,
   "metadata": {},
   "outputs": [
    {
     "name": "stdout",
     "output_type": "stream",
     "text": [
      "Running 'basic_scenario' Scenario\n",
      "  - Start time: 22/01/2025, 06:01:56\n"
     ]
    }
   ],
   "source": [
    "# Start the simulation, defining the sumo config files.\n",
    "my_sim.start(\"./basic_scenario/sumo_config.sumocfg\",\n",
    "                gui=False,\n",
    "                seed=1)"
   ]
  },
  {
   "cell_type": "code",
   "execution_count": null,
   "metadata": {},
   "outputs": [],
   "source": [
    "# Run through the simulation for 1000 steps.\n",
    "my_sim.step_through(n_steps=1000)\n",
    "\n",
    "# End the simulation.\n",
    "my_sim.end()"
   ]
  },
  {
   "cell_type": "code",
   "execution_count": 7,
   "metadata": {},
   "outputs": [
    {
     "name": "stdout",
     "output_type": "stream",
     "text": [
      "\n",
      "(step 1000) (WARNING) Simulation.save_data(): File 'example_data.json' already exists and will be overwritten.\n"
     ]
    }
   ],
   "source": [
    "# Save the simulation data & print a summary, which is also saved.\n",
    "my_sim.save_data(\"example_data.json\")\n",
    "my_sim.print_summary(save_file=\"example_summary.txt\")"
   ]
  },
  {
   "cell_type": "markdown",
   "metadata": {},
   "source": [
    "# SFO test"
   ]
  },
  {
   "cell_type": "code",
   "execution_count": 10,
   "metadata": {},
   "outputs": [
    {
     "name": "stderr",
     "output_type": "stream",
     "text": [
      "C:\\Program Files (x86)\\Eclipse\\Sumo\\tools\\traci\\main.py:154: UserWarning: Could not connect to TraCI server using port 51624 (TraCI server already finished). Retrying with different port.\n",
      "  warnings.warn((\"Could not connect to TraCI server using port %s (%s).\" +\n",
      "C:\\Program Files (x86)\\Eclipse\\Sumo\\tools\\traci\\main.py:154: UserWarning: Could not connect to TraCI server using port 51626 (TraCI server already finished). Retrying with different port.\n",
      "  warnings.warn((\"Could not connect to TraCI server using port %s (%s).\" +\n",
      "C:\\Program Files (x86)\\Eclipse\\Sumo\\tools\\traci\\main.py:154: UserWarning: Could not connect to TraCI server using port 51628 (TraCI server already finished). Retrying with different port.\n",
      "  warnings.warn((\"Could not connect to TraCI server using port %s (%s).\" +\n",
      "c:\\Users\\TLSYSLAB_3_ADMIN\\anaconda3\\envs\\tud-sumo\\Lib\\site-packages\\tud_sumo\\simulation.py:516: SyntaxWarning: invalid escape sequence '\\_'\n",
      "  \"\"\"\n",
      "c:\\Users\\TLSYSLAB_3_ADMIN\\anaconda3\\envs\\tud-sumo\\Lib\\site-packages\\tud_sumo\\simulation.py:582: SyntaxWarning: invalid escape sequence '\\_'\n",
      "  \"\"\"\n",
      "c:\\Users\\TLSYSLAB_3_ADMIN\\anaconda3\\envs\\tud-sumo\\Lib\\site-packages\\tud_sumo\\simulation.py:2071: SyntaxWarning: invalid escape sequence '\\_'\n",
      "  \"\"\"\n",
      "c:\\Users\\TLSYSLAB_3_ADMIN\\anaconda3\\envs\\tud-sumo\\Lib\\site-packages\\tud_sumo\\simulation.py:2168: SyntaxWarning: invalid escape sequence '\\_'\n",
      "  \"\"\"\n"
     ]
    },
    {
     "ename": "KeyboardInterrupt",
     "evalue": "",
     "output_type": "error",
     "traceback": [
      "\u001b[1;31m---------------------------------------------------------------------------\u001b[0m",
      "\u001b[1;31mConnectionRefusedError\u001b[0m                    Traceback (most recent call last)",
      "File \u001b[1;32mC:\\Program Files (x86)\\Eclipse\\Sumo\\tools\\traci\\connection.py:83\u001b[0m, in \u001b[0;36mConnection.__init__\u001b[1;34m(self, host, port, process, traceFile, traceGetters, label)\u001b[0m\n\u001b[0;32m     82\u001b[0m \u001b[38;5;28;01mtry\u001b[39;00m:\n\u001b[1;32m---> 83\u001b[0m     \u001b[38;5;28;43mself\u001b[39;49m\u001b[38;5;241;43m.\u001b[39;49m\u001b[43m_socket\u001b[49m\u001b[38;5;241;43m.\u001b[39;49m\u001b[43mconnect\u001b[49m\u001b[43m(\u001b[49m\u001b[43m(\u001b[49m\u001b[43mhost\u001b[49m\u001b[43m,\u001b[49m\u001b[43m \u001b[49m\u001b[43mport\u001b[49m\u001b[43m)\u001b[49m\u001b[43m)\u001b[49m\n\u001b[0;32m     84\u001b[0m \u001b[38;5;28;01mexcept\u001b[39;00m socket\u001b[38;5;241m.\u001b[39merror:\n",
      "\u001b[1;31mConnectionRefusedError\u001b[0m: [WinError 10061] 대상 컴퓨터에서 연결을 거부했으므로 연결하지 못했습니다",
      "\nDuring handling of the above exception, another exception occurred:\n",
      "\u001b[1;31mKeyboardInterrupt\u001b[0m                         Traceback (most recent call last)",
      "Cell \u001b[1;32mIn[10], line 6\u001b[0m\n\u001b[0;32m      2\u001b[0m my_sim \u001b[38;5;241m=\u001b[39m Simulation(scenario_name\u001b[38;5;241m=\u001b[39m\u001b[38;5;124m\"\u001b[39m\u001b[38;5;124mSFO_example\u001b[39m\u001b[38;5;124m\"\u001b[39m,\n\u001b[0;32m      3\u001b[0m                     scenario_desc\u001b[38;5;241m=\u001b[39m\u001b[38;5;124m\"\u001b[39m\u001b[38;5;124mAnother network check.\u001b[39m\u001b[38;5;124m\"\u001b[39m)\n\u001b[0;32m      5\u001b[0m \u001b[38;5;66;03m# Start the simulation, defining the sumo config files.\u001b[39;00m\n\u001b[1;32m----> 6\u001b[0m \u001b[43mmy_sim\u001b[49m\u001b[38;5;241;43m.\u001b[39;49m\u001b[43mstart\u001b[49m\u001b[43m(\u001b[49m\u001b[38;5;124;43m\"\u001b[39;49m\u001b[38;5;124;43m./SFO_example/sumo_test.sumocfg\u001b[39;49m\u001b[38;5;124;43m\"\u001b[39;49m\u001b[43m,\u001b[49m\n\u001b[0;32m      7\u001b[0m \u001b[43m                \u001b[49m\u001b[43mgui\u001b[49m\u001b[38;5;241;43m=\u001b[39;49m\u001b[38;5;28;43;01mFalse\u001b[39;49;00m\u001b[43m,\u001b[49m\n\u001b[0;32m      8\u001b[0m \u001b[43m                \u001b[49m\u001b[43mseed\u001b[49m\u001b[38;5;241;43m=\u001b[39;49m\u001b[38;5;241;43m1\u001b[39;49m\u001b[43m)\u001b[49m\n\u001b[0;32m     10\u001b[0m my_sim\u001b[38;5;241m.\u001b[39mstep_through(n_steps\u001b[38;5;241m=\u001b[39m\u001b[38;5;241m1000\u001b[39m)\n\u001b[0;32m     12\u001b[0m \u001b[38;5;66;03m# End the simulation.\u001b[39;00m\n",
      "File \u001b[1;32mc:\\Users\\TLSYSLAB_3_ADMIN\\anaconda3\\envs\\tud-sumo\\Lib\\site-packages\\tud_sumo\\simulation.py:190\u001b[0m, in \u001b[0;36mSimulation.start\u001b[1;34m(self, config_file, net_file, route_file, add_file, gui_file, cmd_options, units, get_individual_vehicle_data, automatic_subscriptions, suppress_warnings, suppress_traci_warnings, suppress_pbar, seed, gui, sumo_home)\u001b[0m\n\u001b[0;32m    187\u001b[0m \u001b[38;5;28;01mif\u001b[39;00m suppress_traci_warnings: default_cmd_args \u001b[38;5;241m+\u001b[39m\u001b[38;5;241m=\u001b[39m [\u001b[38;5;124m\"\u001b[39m\u001b[38;5;124m--no-warnings\u001b[39m\u001b[38;5;124m\"\u001b[39m, \u001b[38;5;124m\"\u001b[39m\u001b[38;5;124mtrue\u001b[39m\u001b[38;5;124m\"\u001b[39m]\n\u001b[0;32m    188\u001b[0m sumoCMD \u001b[38;5;241m+\u001b[39m\u001b[38;5;241m=\u001b[39m default_cmd_args\n\u001b[1;32m--> 190\u001b[0m \u001b[43mtraci\u001b[49m\u001b[38;5;241;43m.\u001b[39;49m\u001b[43mstart\u001b[49m\u001b[43m(\u001b[49m\u001b[43msumoCMD\u001b[49m\u001b[43m)\u001b[49m\n\u001b[0;32m    191\u001b[0m \u001b[38;5;28mself\u001b[39m\u001b[38;5;241m.\u001b[39m_running \u001b[38;5;241m=\u001b[39m \u001b[38;5;28;01mTrue\u001b[39;00m\n\u001b[0;32m    192\u001b[0m \u001b[38;5;28mself\u001b[39m\u001b[38;5;241m.\u001b[39mstep_length \u001b[38;5;241m=\u001b[39m \u001b[38;5;28mfloat\u001b[39m(traci\u001b[38;5;241m.\u001b[39msimulation\u001b[38;5;241m.\u001b[39mgetOption(\u001b[38;5;124m\"\u001b[39m\u001b[38;5;124mstep-length\u001b[39m\u001b[38;5;124m\"\u001b[39m))\n",
      "File \u001b[1;32mC:\\Program Files (x86)\\Eclipse\\Sumo\\tools\\traci\\main.py:147\u001b[0m, in \u001b[0;36mstart\u001b[1;34m(cmd, port, numRetries, label, verbose, traceFile, traceGetters, stdout, doSwitch)\u001b[0m\n\u001b[0;32m    145\u001b[0m sumoProcess \u001b[38;5;241m=\u001b[39m subprocess\u001b[38;5;241m.\u001b[39mPopen(cmd2, stdout\u001b[38;5;241m=\u001b[39mstdout)\n\u001b[0;32m    146\u001b[0m \u001b[38;5;28;01mtry\u001b[39;00m:\n\u001b[1;32m--> 147\u001b[0m     result \u001b[38;5;241m=\u001b[39m \u001b[43minit\u001b[49m\u001b[43m(\u001b[49m\u001b[43msumoPort\u001b[49m\u001b[43m,\u001b[49m\u001b[43m \u001b[49m\u001b[43mnumRetries\u001b[49m\u001b[43m,\u001b[49m\u001b[43m \u001b[49m\u001b[38;5;124;43m\"\u001b[39;49m\u001b[38;5;124;43mlocalhost\u001b[39;49m\u001b[38;5;124;43m\"\u001b[39;49m\u001b[43m,\u001b[49m\u001b[43m \u001b[49m\u001b[43mlabel\u001b[49m\u001b[43m,\u001b[49m\u001b[43m \u001b[49m\u001b[43msumoProcess\u001b[49m\u001b[43m,\u001b[49m\u001b[43m \u001b[49m\u001b[43mdoSwitch\u001b[49m\u001b[43m,\u001b[49m\u001b[43m \u001b[49m\u001b[43mtraceFile\u001b[49m\u001b[43m,\u001b[49m\u001b[43m \u001b[49m\u001b[43mtraceGetters\u001b[49m\u001b[43m)\u001b[49m\n\u001b[0;32m    148\u001b[0m     \u001b[38;5;28;01mif\u001b[39;00m traceFile \u001b[38;5;129;01mis\u001b[39;00m \u001b[38;5;129;01mnot\u001b[39;00m \u001b[38;5;28;01mNone\u001b[39;00m:\n\u001b[0;32m    149\u001b[0m         connection\u001b[38;5;241m.\u001b[39mget(label)\u001b[38;5;241m.\u001b[39mwrite(\u001b[38;5;124m\"\u001b[39m\u001b[38;5;124mstart\u001b[39m\u001b[38;5;124m\"\u001b[39m, \u001b[38;5;124m\"\u001b[39m\u001b[38;5;132;01m%s\u001b[39;00m\u001b[38;5;124m, port=\u001b[39m\u001b[38;5;132;01m%s\u001b[39;00m\u001b[38;5;124m, label=\u001b[39m\u001b[38;5;132;01m%s\u001b[39;00m\u001b[38;5;124m\"\u001b[39m \u001b[38;5;241m%\u001b[39m (\u001b[38;5;28mrepr\u001b[39m(cmd), \u001b[38;5;28mrepr\u001b[39m(port), \u001b[38;5;28mrepr\u001b[39m(label)))\n",
      "File \u001b[1;32mC:\\Program Files (x86)\\Eclipse\\Sumo\\tools\\traci\\main.py:116\u001b[0m, in \u001b[0;36minit\u001b[1;34m(port, numRetries, host, label, proc, doSwitch, traceFile, traceGetters)\u001b[0m\n\u001b[0;32m    109\u001b[0m \u001b[38;5;28;01mdef\u001b[39;00m\u001b[38;5;250m \u001b[39m\u001b[38;5;21minit\u001b[39m(port\u001b[38;5;241m=\u001b[39m\u001b[38;5;241m8813\u001b[39m, numRetries\u001b[38;5;241m=\u001b[39mtc\u001b[38;5;241m.\u001b[39mDEFAULT_NUM_RETRIES, host\u001b[38;5;241m=\u001b[39m\u001b[38;5;124m\"\u001b[39m\u001b[38;5;124mlocalhost\u001b[39m\u001b[38;5;124m\"\u001b[39m, label\u001b[38;5;241m=\u001b[39m\u001b[38;5;124m\"\u001b[39m\u001b[38;5;124mdefault\u001b[39m\u001b[38;5;124m\"\u001b[39m, proc\u001b[38;5;241m=\u001b[39m\u001b[38;5;28;01mNone\u001b[39;00m, doSwitch\u001b[38;5;241m=\u001b[39m\u001b[38;5;28;01mTrue\u001b[39;00m,\n\u001b[0;32m    110\u001b[0m          traceFile\u001b[38;5;241m=\u001b[39m\u001b[38;5;28;01mNone\u001b[39;00m, traceGetters\u001b[38;5;241m=\u001b[39m\u001b[38;5;28;01mTrue\u001b[39;00m):\n\u001b[0;32m    111\u001b[0m \u001b[38;5;250m    \u001b[39m\u001b[38;5;124;03m\"\"\"\u001b[39;00m\n\u001b[0;32m    112\u001b[0m \u001b[38;5;124;03m    Establish a connection to a TraCI-Server and store it under the given\u001b[39;00m\n\u001b[0;32m    113\u001b[0m \u001b[38;5;124;03m    label. This method is not thread-safe. It accesses the connection\u001b[39;00m\n\u001b[0;32m    114\u001b[0m \u001b[38;5;124;03m    pool concurrently.\u001b[39;00m\n\u001b[0;32m    115\u001b[0m \u001b[38;5;124;03m    \"\"\"\u001b[39;00m\n\u001b[1;32m--> 116\u001b[0m     con \u001b[38;5;241m=\u001b[39m \u001b[43mconnect\u001b[49m\u001b[43m(\u001b[49m\u001b[43mport\u001b[49m\u001b[43m,\u001b[49m\u001b[43m \u001b[49m\u001b[43mnumRetries\u001b[49m\u001b[43m,\u001b[49m\u001b[43m \u001b[49m\u001b[43mhost\u001b[49m\u001b[43m,\u001b[49m\u001b[43m \u001b[49m\u001b[43mproc\u001b[49m\u001b[43m,\u001b[49m\u001b[43m \u001b[49m\u001b[38;5;241;43m1\u001b[39;49m\u001b[43m,\u001b[49m\u001b[43m \u001b[49m\u001b[43mtraceFile\u001b[49m\u001b[43m,\u001b[49m\u001b[43m \u001b[49m\u001b[43mtraceGetters\u001b[49m\u001b[43m,\u001b[49m\u001b[43m \u001b[49m\u001b[43mlabel\u001b[49m\u001b[43m)\u001b[49m\n\u001b[0;32m    117\u001b[0m     \u001b[38;5;28;01mif\u001b[39;00m doSwitch:\n\u001b[0;32m    118\u001b[0m         switch(label)\n",
      "File \u001b[1;32mC:\\Program Files (x86)\\Eclipse\\Sumo\\tools\\traci\\main.py:97\u001b[0m, in \u001b[0;36mconnect\u001b[1;34m(port, numRetries, host, proc, waitBetweenRetries, traceFile, traceGetters, label)\u001b[0m\n\u001b[0;32m     95\u001b[0m \u001b[38;5;28;01mfor\u001b[39;00m retry \u001b[38;5;129;01min\u001b[39;00m \u001b[38;5;28mrange\u001b[39m(\u001b[38;5;241m1\u001b[39m, numRetries \u001b[38;5;241m+\u001b[39m \u001b[38;5;241m2\u001b[39m):\n\u001b[0;32m     96\u001b[0m     \u001b[38;5;28;01mtry\u001b[39;00m:\n\u001b[1;32m---> 97\u001b[0m         \u001b[38;5;28;01mreturn\u001b[39;00m \u001b[43mconnection\u001b[49m\u001b[38;5;241;43m.\u001b[39;49m\u001b[43mConnection\u001b[49m\u001b[43m(\u001b[49m\u001b[43mhost\u001b[49m\u001b[43m,\u001b[49m\u001b[43m \u001b[49m\u001b[43mport\u001b[49m\u001b[43m,\u001b[49m\u001b[43m \u001b[49m\u001b[43mproc\u001b[49m\u001b[43m,\u001b[49m\u001b[43m \u001b[49m\u001b[43mtraceFile\u001b[49m\u001b[43m,\u001b[49m\u001b[43m \u001b[49m\u001b[43mtraceGetters\u001b[49m\u001b[43m,\u001b[49m\u001b[43m \u001b[49m\u001b[43mlabel\u001b[49m\u001b[43m)\u001b[49m\n\u001b[0;32m     98\u001b[0m     \u001b[38;5;28;01mexcept\u001b[39;00m socket\u001b[38;5;241m.\u001b[39merror \u001b[38;5;28;01mas\u001b[39;00m e:\n\u001b[0;32m     99\u001b[0m         \u001b[38;5;28;01mif\u001b[39;00m proc \u001b[38;5;129;01mis\u001b[39;00m \u001b[38;5;129;01mnot\u001b[39;00m \u001b[38;5;28;01mNone\u001b[39;00m \u001b[38;5;129;01mand\u001b[39;00m proc\u001b[38;5;241m.\u001b[39mpoll() \u001b[38;5;129;01mis\u001b[39;00m \u001b[38;5;129;01mnot\u001b[39;00m \u001b[38;5;28;01mNone\u001b[39;00m:\n",
      "File \u001b[1;32mC:\\Program Files (x86)\\Eclipse\\Sumo\\tools\\traci\\connection.py:85\u001b[0m, in \u001b[0;36mConnection.__init__\u001b[1;34m(self, host, port, process, traceFile, traceGetters, label)\u001b[0m\n\u001b[0;32m     83\u001b[0m     \u001b[38;5;28mself\u001b[39m\u001b[38;5;241m.\u001b[39m_socket\u001b[38;5;241m.\u001b[39mconnect((host, port))\n\u001b[0;32m     84\u001b[0m \u001b[38;5;28;01mexcept\u001b[39;00m socket\u001b[38;5;241m.\u001b[39merror:\n\u001b[1;32m---> 85\u001b[0m     \u001b[38;5;28;43mself\u001b[39;49m\u001b[38;5;241;43m.\u001b[39;49m\u001b[43m_socket\u001b[49m\u001b[38;5;241;43m.\u001b[39;49m\u001b[43mclose\u001b[49m\u001b[43m(\u001b[49m\u001b[43m)\u001b[49m\n\u001b[0;32m     86\u001b[0m     \u001b[38;5;28;01mraise\u001b[39;00m\n\u001b[0;32m     87\u001b[0m \u001b[38;5;28mself\u001b[39m\u001b[38;5;241m.\u001b[39m_process \u001b[38;5;241m=\u001b[39m process\n",
      "File \u001b[1;32mc:\\Users\\TLSYSLAB_3_ADMIN\\anaconda3\\envs\\tud-sumo\\Lib\\socket.py:501\u001b[0m, in \u001b[0;36msocket.close\u001b[1;34m(self)\u001b[0m\n\u001b[0;32m    497\u001b[0m \u001b[38;5;28;01mdef\u001b[39;00m\u001b[38;5;250m \u001b[39m\u001b[38;5;21m_real_close\u001b[39m(\u001b[38;5;28mself\u001b[39m, _ss\u001b[38;5;241m=\u001b[39m_socket\u001b[38;5;241m.\u001b[39msocket):\n\u001b[0;32m    498\u001b[0m     \u001b[38;5;66;03m# This function should not reference any globals. See issue #808164.\u001b[39;00m\n\u001b[0;32m    499\u001b[0m     _ss\u001b[38;5;241m.\u001b[39mclose(\u001b[38;5;28mself\u001b[39m)\n\u001b[1;32m--> 501\u001b[0m \u001b[38;5;28;01mdef\u001b[39;00m\u001b[38;5;250m \u001b[39m\u001b[38;5;21mclose\u001b[39m(\u001b[38;5;28mself\u001b[39m):\n\u001b[0;32m    502\u001b[0m     \u001b[38;5;66;03m# This function should not reference any globals. See issue #808164.\u001b[39;00m\n\u001b[0;32m    503\u001b[0m     \u001b[38;5;28mself\u001b[39m\u001b[38;5;241m.\u001b[39m_closed \u001b[38;5;241m=\u001b[39m \u001b[38;5;28;01mTrue\u001b[39;00m\n\u001b[0;32m    504\u001b[0m     \u001b[38;5;28;01mif\u001b[39;00m \u001b[38;5;28mself\u001b[39m\u001b[38;5;241m.\u001b[39m_io_refs \u001b[38;5;241m<\u001b[39m\u001b[38;5;241m=\u001b[39m \u001b[38;5;241m0\u001b[39m:\n",
      "\u001b[1;31mKeyboardInterrupt\u001b[0m: "
     ]
    }
   ],
   "source": [
    "# Initialise the simulation object.\n",
    "my_sim = Simulation(scenario_name=\"SFO_example\",\n",
    "                    scenario_desc=\"Another network check.\")\n",
    "\n",
    "# Start the simulation, defining the sumo config files.\n",
    "my_sim.start(\"./SFO_example/sumo_test.sumocfg\",\n",
    "                gui=False,\n",
    "                seed=1)\n",
    "\n",
    "my_sim.step_through(n_steps=1000)\n",
    "\n",
    "# End the simulation.\n",
    "my_sim.end()"
   ]
  }
 ],
 "metadata": {
  "kernelspec": {
   "display_name": "tud-sumo",
   "language": "python",
   "name": "python3"
  },
  "language_info": {
   "codemirror_mode": {
    "name": "ipython",
    "version": 3
   },
   "file_extension": ".py",
   "mimetype": "text/x-python",
   "name": "python",
   "nbconvert_exporter": "python",
   "pygments_lexer": "ipython3",
   "version": "3.12.8"
  }
 },
 "nbformat": 4,
 "nbformat_minor": 2
}
