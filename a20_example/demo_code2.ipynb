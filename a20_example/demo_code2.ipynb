{
 "cells": [
  {
   "cell_type": "code",
   "execution_count": 2,
   "metadata": {},
   "outputs": [],
   "source": [
    "from random import randint, seed\n",
    "import sys\n",
    "\n",
    "from tud_sumo.simulation import Simulation\n",
    "from tud_sumo.plot import Plotter"
   ]
  },
  {
   "cell_type": "code",
   "execution_count": 3,
   "metadata": {},
   "outputs": [
    {
     "name": "stdout",
     "output_type": "stream",
     "text": [
      "Running 'A20_ITCS' Scenario\n",
      "  - Start time: 22/01/2025, 06:03:31\n"
     ]
    }
   ],
   "source": [
    "\n",
    "# Initialise the simulation object.\n",
    "my_sim = Simulation(scenario_name=\"A20_ITCS\", scenario_desc=\"Example traffic controllers, with 2 ramp meters, 1 VSL controller and 1 route guidance controller.\")\n",
    "\n",
    "# Add \"-seed {x}\" to the command line to set a seed for the simulation\n",
    "sim_seed = \"1\" if \"-seed\" not in sys.argv[:-1] else sys.argv[sys.argv.index(\"-seed\")+1]\n",
    "seed(int(sim_seed))\n",
    "\n",
    "# Start the simulation, defining the sumo config files. Add \"-gui\" to the command line to run with the GUI.\n",
    "my_sim.start(\"a20_scenario/a20.sumocfg\", get_individual_vehicle_data=False, gui=\"-gui\" in sys.argv,\n",
    "                seed=sim_seed, units=\"metric\") # Units can either be metric (km,kmph)/imperial (mi,mph)/UK (km,mph). All data collected is in these units.\n",
    "\n",
    "\n"
   ]
  },
  {
   "cell_type": "code",
   "execution_count": null,
   "metadata": {},
   "outputs": [],
   "source": [
    "# Add demand from a '.csv' file.\n",
    "# my_sim.load_demand(\"a20_scenario/demand.csv\")\n",
    "\n",
    "# Add a tracked junction to the intersection with ID \"utsc\", which will track signal phases/times.\n",
    "my_sim.add_tracked_junctions({\"utsc\": {\"flow_params\": {\"inflow_detectors\": [\"utsc_n_in_1\", \"utsc_n_in_2\", \"utsc_w_in\", \"utsc_e_in\"],\n",
    "                                                    \"outflow_detectors\": [\"utsc_w_out\", \"utsc_e_out\"],\n",
    "                                                    \"vehicle_types\": [\"cars\", \"lorries\", \"motorcycles\", \"vans\"]}}})\n"
   ]
  },
  {
   "cell_type": "code",
   "execution_count": 5,
   "metadata": {},
   "outputs": [],
   "source": [
    "# Set traffic signal phases. The junc_phases dict can be used for multiple junctions.\n",
    "# set_m_phases() can be used to set phases according to different movements (here, movements 1 & 2)\n",
    "phases = {\"phases\": {1: [\"G\", \"y\", \"r\"], 2: [\"r\", \"G\", \"y\"]},\n",
    "            \"times\":  {1: [ 27,  3,   20], 2: [ 30,  17,  3]},\n",
    "            \"masks\":  {1: \"1100\",          2: \"0011\"}}\n",
    "\n",
    "my_sim.set_m_phases({\"utsc\": phases})"
   ]
  },
  {
   "cell_type": "code",
   "execution_count": 6,
   "metadata": {},
   "outputs": [],
   "source": [
    "# This is equivalent to: my_sim.set_phases({\"utsc\": {\"phases\": [\"GGrr\", \"yyrr\", \"rrGG\", \"rryy\"], \"times\": [27, 3, 17, 3]}})\n",
    "\n",
    "# Add a ramp meter to the junction with ID \"crooswijk_meter\". The junc_params dict can be used to\n",
    "# define meter specifc parameters (min/max rate, spillback tracking or queue detectors) and flow specific\n",
    "# parameters (inflow/outflow detectors used to calculate in/out flow).\n",
    "my_sim.add_tracked_junctions({\"crooswijk_meter\": {'meter_params': {'min_rate': 200, 'max_rate': 2000, 'queue_detector': \"cw_ramp_queue\"},\n",
    "                                                'flow_params': {'inflow_detectors': [\"cw_ramp_inflow\", \"cw_rm_upstream\"], 'outflow_detectors': [\"cw_rm_downstream\"]}},\n",
    "                            \"a13_meter\": {'meter_params': {'min_rate': 200, 'max_rate': 2000, 'queue_detector': \"a13_ramp_queue\"},\n",
    "                                            'flow_params': {'inflow_detectors': [\"a13_ramp_inflow\", \"a13_rm_upstream\"], 'outflow_detectors': [\"a13_rm_downstream\"]}}})\n"
   ]
  },
  {
   "cell_type": "code",
   "execution_count": 7,
   "metadata": {},
   "outputs": [
    {
     "data": {
      "text/plain": [
       "{'rerouter': <tud_sumo.controllers.RGController at 0x1c54845c950>,\n",
       " 'vsl': <tud_sumo.controllers.VSLController at 0x1c54845c5c0>}"
      ]
     },
     "execution_count": 7,
     "metadata": {},
     "output_type": "execute_result"
    }
   ],
   "source": [
    "# Add Route Guidance (RG) & Variable Speed Limit (VSL) controllers. RG controllers need a detector or\n",
    "# edge that will act as the redirection point and a target edge/route ID to redirect drivers to. It is\n",
    "# also possible to define a diversion percent to randomly divert a certain percent of drivers, and a\n",
    "# highlight colour for the SUMO gui, which will highlight affected drivers. VSL controllers only need\n",
    "# to have a list of lanes/edges where they will operate.\n",
    "my_sim.add_controllers({\"rerouter\": {\"type\": \"RG\", \"detector_ids\": [\"rerouter_2\"], \"new_destination\": \"urban_out_w\", \"diversion_pct\": 1, \"highlight\": \"00FF00\"},\n",
    "                        \"vsl\": {\"type\": \"VSL\", \"geometry_ids\": [\"126729982\", \"126730069\", \"126730059\"]}})"
   ]
  },
  {
   "cell_type": "code",
   "execution_count": 8,
   "metadata": {},
   "outputs": [],
   "source": [
    "# Add tracked edges. This will track some basic information, such as average speed etc, but can also\n",
    "# be used to create space-time diagrams as individual vehicle speeds and positions are tracked.\n",
    "tracked_edges = [\"126730026\", \"1191885773\", \"1191885771\", \"126730171\", \"1191885772\", \"948542172\", \"70944365\", \"308977078\", \"1192621075\"]\n",
    "my_sim.add_tracked_edges(tracked_edges)"
   ]
  },
  {
   "cell_type": "code",
   "execution_count": 9,
   "metadata": {},
   "outputs": [],
   "source": [
    "# Add scheduled events from a JSON file (can be dictionary). Use the format as in example_incident.json\n",
    "my_sim.add_events(\"a20_scenario/example_incident.json\")\n",
    "\n",
    "# Add a new route that vehicles can be assigned to.\n",
    "my_sim.add_route((\"urban_in_e\", \"urban_out_w\"), \"new_route\")"
   ]
  },
  {
   "cell_type": "code",
   "execution_count": 10,
   "metadata": {},
   "outputs": [
    {
     "name": "stdout",
     "output_type": "stream",
     "text": [
      "\n",
      "(step 0) (WARNING) Simulation.save_objects(): File 'objects.json' already exists and will be overwritten.\n"
     ]
    }
   ],
   "source": [
    "# These individual functions above can be replaced as below, where the 'parameters.json' file contains\n",
    "# a dictionary of all necessary parameters (under 'edges', 'junctions', 'phases', 'controllers' and 'events')\n",
    "# my_sim.load_objects(\"parameters.json\")\n",
    "\n",
    "# This file can either be created manually, or by saving objects in previous simulations. This is done\n",
    "# using the save_objects function as below.\n",
    "my_sim.save_objects(\"objects.json\")"
   ]
  },
  {
   "cell_type": "code",
   "execution_count": 12,
   "metadata": {},
   "outputs": [],
   "source": [
    "# Add a function that is called on each new vehicle in the simulation. Simulation parameters are; curr_step,\n",
    "# vehicle_id, route_id, vehicle_type, departure, origin, destination. These values are filled automatically.\n",
    "# For other parameters, use a parameters dictionary as below. Use add_vehicle_out_funcs() for functions\n",
    "# called when vehicles exit the simulation (only with vehicle_id and/or curr_step). Vehicle in/out functions\n",
    "# can be removed using remove_vehicle_[in/out]_functions().\n",
    "\n",
    "vehicle_ids, new_veh_idx = [], 0\n",
    "def add_to_vehicle_arr(simulation, vehicle_id, arr):\n",
    "    \"\"\"\n",
    "    Append vehicle ID and initial speed to an array.\n",
    "    \"\"\"\n",
    "    veh_speed = simulation.get_vehicle_vals(vehicle_id, \"speed\")\n",
    "    arr.append((vehicle_id, veh_speed))\n",
    "\n",
    "# ><><><><><><><><><><><><><><><><><><><><><><><><><\n",
    "# my_sim.add_vehicle_in_functions(add_to_vehicle_arr, parameters={\"arr\": vehicle_ids})\n",
    "\n",
    "n, sim_dur, warmup = 1, 500 / my_sim.step_length, 0 / my_sim.step_length"
   ]
  },
  {
   "cell_type": "code",
   "execution_count": 13,
   "metadata": {},
   "outputs": [
    {
     "name": "stderr",
     "output_type": "stream",
     "text": [
      "Simulating (0:03:29 - 685 vehs):  42%|\u001b[36m████▏     \u001b[0m| 209/500.0 [00:03<00:07, 38.85steps/s]"
     ]
    },
    {
     "name": "stdout",
     "output_type": "stream",
     "text": [
      "Error! Vehicle 'base_12.0' is not known.\n",
      "Error! Vehicle 'base_12.0' is not known.\n",
      "Error! Vehicle 'base_12.0' is not known.\n",
      "Error! Vehicle 'base_11.0' is not known.\n",
      "Error! Vehicle 'base_11.0' is not known.\n",
      "Error! Vehicle 'base_11.0' is not known.\n"
     ]
    },
    {
     "name": "stderr",
     "output_type": "stream",
     "text": [
      "Simulating (0:08:20 - 1231 vehs): 100%|\u001b[36m██████████\u001b[0m| 500/500.0 [00:14<00:00, 34.45steps/s]\n"
     ]
    },
    {
     "name": "stdout",
     "output_type": "stream",
     "text": [
      "\n",
      "(step 500) (WARNING) Simulation.save_data(): File 'example_data.json' already exists and will be overwritten.\n",
      "\n",
      "(step 500) (WARNING) Simulation.save_data(): File 'example_data.pkl' already exists and will be overwritten.\n"
     ]
    }
   ],
   "source": [
    "\n",
    "if warmup > 0:\n",
    "    my_sim.step_through(n_steps=warmup, pbar_max_steps=sim_dur+warmup, keep_data=False)\n",
    "\n",
    "while my_sim.curr_step < sim_dur + warmup:\n",
    "\n",
    "    # Set ramp metering rate.\n",
    "    if my_sim.curr_step % 50 / my_sim.step_length == 0:\n",
    "        my_sim.set_tl_metering_rate(rm_id=\"crooswijk_meter\", metering_rate=randint(1200, 2000))\n",
    "        my_sim.set_tl_metering_rate(rm_id=\"a13_meter\", metering_rate=randint(1200, 2000))\n",
    "    \n",
    "    # Step through n seconds.\n",
    "    my_sim.step_through(n_seconds=n, pbar_max_steps=sim_dur+warmup)\n",
    "\n",
    "    # Add new vehicles going from \"urban_in_e\" to \"urban_out_w\" (using previously defined route)\n",
    "    if my_sim.curr_step % 50 / my_sim.step_length == 0:\n",
    "        my_sim.add_vehicle(vehicle_id=\"lorry_\"+str(new_veh_idx), vehicle_type=\"lorries\", routing=\"new_route\", origin_lane=\"first\")\n",
    "        my_sim.add_vehicle(vehicle_id=\"car_\"+str(new_veh_idx), vehicle_type=\"cars\", routing=\"new_route\")\n",
    "        new_veh_idx += 1\n",
    "\n",
    "    if my_sim.curr_step == 100 / my_sim.step_length:\n",
    "        my_sim.cause_incident(100, n_vehicles=2, edge_speed=5)\n",
    "\n",
    "    if my_sim.curr_step == 250 / my_sim.step_length:\n",
    "        # Activate controllers & update UTSC phases.\n",
    "        my_sim.controllers[\"rerouter\"].activate()\n",
    "        my_sim.controllers[\"vsl\"].set_speed_limit(60)\n",
    "\n",
    "        my_sim.set_phases({\"utsc\": {\"phases\": [\"GGrr\", \"yyrr\", \"rrGG\", \"rryy\"], \"times\": [37, 3, 7, 3]}}, overwrite=False)\n",
    "\n",
    "    if my_sim.curr_step == 400 / my_sim.step_length:\n",
    "        my_sim.controllers[\"vsl\"].set_speed_limit(40)\n",
    "\n",
    "    # Deactivate controllers.\n",
    "    if my_sim.curr_step == 450 / my_sim.step_length:\n",
    "        my_sim.controllers[\"rerouter\"].deactivate()\n",
    "        my_sim.controllers[\"vsl\"].deactivate()\n",
    "\n",
    "# End the simulation.\n",
    "my_sim.end()\n",
    "\n",
    "# Save the simulation data & print a summary, which is also saved.\n",
    "my_sim.save_data(\"example_data.json\")\n",
    "my_sim.save_data(\"example_data.pkl\")\n",
    "my_sim.print_summary(save_file=\"example_summary.txt\")\n"
   ]
  }
 ],
 "metadata": {
  "kernelspec": {
   "display_name": "tud-sumo",
   "language": "python",
   "name": "python3"
  },
  "language_info": {
   "codemirror_mode": {
    "name": "ipython",
    "version": 3
   },
   "file_extension": ".py",
   "mimetype": "text/x-python",
   "name": "python",
   "nbconvert_exporter": "python",
   "pygments_lexer": "ipython3",
   "version": "3.12.8"
  }
 },
 "nbformat": 4,
 "nbformat_minor": 2
}
